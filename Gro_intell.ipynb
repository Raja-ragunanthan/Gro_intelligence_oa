{
  "nbformat": 4,
  "nbformat_minor": 0,
  "metadata": {
    "colab": {
      "name": "Gro_intell.ipynb",
      "provenance": [],
      "collapsed_sections": []
    },
    "kernelspec": {
      "name": "python3",
      "display_name": "Python 3"
    },
    "language_info": {
      "name": "python"
    }
  },
  "cells": [
    {
      "cell_type": "code",
      "source": [
        "from google.colab import files\n",
        "uploaded = files.upload()"
      ],
      "metadata": {
        "colab": {
          "resources": {
            "http://localhost:8080/nbextensions/google.colab/files.js": {
              "data": "Ly8gQ29weXJpZ2h0IDIwMTcgR29vZ2xlIExMQwovLwovLyBMaWNlbnNlZCB1bmRlciB0aGUgQXBhY2hlIExpY2Vuc2UsIFZlcnNpb24gMi4wICh0aGUgIkxpY2Vuc2UiKTsKLy8geW91IG1heSBub3QgdXNlIHRoaXMgZmlsZSBleGNlcHQgaW4gY29tcGxpYW5jZSB3aXRoIHRoZSBMaWNlbnNlLgovLyBZb3UgbWF5IG9idGFpbiBhIGNvcHkgb2YgdGhlIExpY2Vuc2UgYXQKLy8KLy8gICAgICBodHRwOi8vd3d3LmFwYWNoZS5vcmcvbGljZW5zZXMvTElDRU5TRS0yLjAKLy8KLy8gVW5sZXNzIHJlcXVpcmVkIGJ5IGFwcGxpY2FibGUgbGF3IG9yIGFncmVlZCB0byBpbiB3cml0aW5nLCBzb2Z0d2FyZQovLyBkaXN0cmlidXRlZCB1bmRlciB0aGUgTGljZW5zZSBpcyBkaXN0cmlidXRlZCBvbiBhbiAiQVMgSVMiIEJBU0lTLAovLyBXSVRIT1VUIFdBUlJBTlRJRVMgT1IgQ09ORElUSU9OUyBPRiBBTlkgS0lORCwgZWl0aGVyIGV4cHJlc3Mgb3IgaW1wbGllZC4KLy8gU2VlIHRoZSBMaWNlbnNlIGZvciB0aGUgc3BlY2lmaWMgbGFuZ3VhZ2UgZ292ZXJuaW5nIHBlcm1pc3Npb25zIGFuZAovLyBsaW1pdGF0aW9ucyB1bmRlciB0aGUgTGljZW5zZS4KCi8qKgogKiBAZmlsZW92ZXJ2aWV3IEhlbHBlcnMgZm9yIGdvb2dsZS5jb2xhYiBQeXRob24gbW9kdWxlLgogKi8KKGZ1bmN0aW9uKHNjb3BlKSB7CmZ1bmN0aW9uIHNwYW4odGV4dCwgc3R5bGVBdHRyaWJ1dGVzID0ge30pIHsKICBjb25zdCBlbGVtZW50ID0gZG9jdW1lbnQuY3JlYXRlRWxlbWVudCgnc3BhbicpOwogIGVsZW1lbnQudGV4dENvbnRlbnQgPSB0ZXh0OwogIGZvciAoY29uc3Qga2V5IG9mIE9iamVjdC5rZXlzKHN0eWxlQXR0cmlidXRlcykpIHsKICAgIGVsZW1lbnQuc3R5bGVba2V5XSA9IHN0eWxlQXR0cmlidXRlc1trZXldOwogIH0KICByZXR1cm4gZWxlbWVudDsKfQoKLy8gTWF4IG51bWJlciBvZiBieXRlcyB3aGljaCB3aWxsIGJlIHVwbG9hZGVkIGF0IGEgdGltZS4KY29uc3QgTUFYX1BBWUxPQURfU0laRSA9IDEwMCAqIDEwMjQ7CgpmdW5jdGlvbiBfdXBsb2FkRmlsZXMoaW5wdXRJZCwgb3V0cHV0SWQpIHsKICBjb25zdCBzdGVwcyA9IHVwbG9hZEZpbGVzU3RlcChpbnB1dElkLCBvdXRwdXRJZCk7CiAgY29uc3Qgb3V0cHV0RWxlbWVudCA9IGRvY3VtZW50LmdldEVsZW1lbnRCeUlkKG91dHB1dElkKTsKICAvLyBDYWNoZSBzdGVwcyBvbiB0aGUgb3V0cHV0RWxlbWVudCB0byBtYWtlIGl0IGF2YWlsYWJsZSBmb3IgdGhlIG5leHQgY2FsbAogIC8vIHRvIHVwbG9hZEZpbGVzQ29udGludWUgZnJvbSBQeXRob24uCiAgb3V0cHV0RWxlbWVudC5zdGVwcyA9IHN0ZXBzOwoKICByZXR1cm4gX3VwbG9hZEZpbGVzQ29udGludWUob3V0cHV0SWQpOwp9CgovLyBUaGlzIGlzIHJvdWdobHkgYW4gYXN5bmMgZ2VuZXJhdG9yIChub3Qgc3VwcG9ydGVkIGluIHRoZSBicm93c2VyIHlldCksCi8vIHdoZXJlIHRoZXJlIGFyZSBtdWx0aXBsZSBhc3luY2hyb25vdXMgc3RlcHMgYW5kIHRoZSBQeXRob24gc2lkZSBpcyBnb2luZwovLyB0byBwb2xsIGZvciBjb21wbGV0aW9uIG9mIGVhY2ggc3RlcC4KLy8gVGhpcyB1c2VzIGEgUHJvbWlzZSB0byBibG9jayB0aGUgcHl0aG9uIHNpZGUgb24gY29tcGxldGlvbiBvZiBlYWNoIHN0ZXAsCi8vIHRoZW4gcGFzc2VzIHRoZSByZXN1bHQgb2YgdGhlIHByZXZpb3VzIHN0ZXAgYXMgdGhlIGlucHV0IHRvIHRoZSBuZXh0IHN0ZXAuCmZ1bmN0aW9uIF91cGxvYWRGaWxlc0NvbnRpbnVlKG91dHB1dElkKSB7CiAgY29uc3Qgb3V0cHV0RWxlbWVudCA9IGRvY3VtZW50LmdldEVsZW1lbnRCeUlkKG91dHB1dElkKTsKICBjb25zdCBzdGVwcyA9IG91dHB1dEVsZW1lbnQuc3RlcHM7CgogIGNvbnN0IG5leHQgPSBzdGVwcy5uZXh0KG91dHB1dEVsZW1lbnQubGFzdFByb21pc2VWYWx1ZSk7CiAgcmV0dXJuIFByb21pc2UucmVzb2x2ZShuZXh0LnZhbHVlLnByb21pc2UpLnRoZW4oKHZhbHVlKSA9PiB7CiAgICAvLyBDYWNoZSB0aGUgbGFzdCBwcm9taXNlIHZhbHVlIHRvIG1ha2UgaXQgYXZhaWxhYmxlIHRvIHRoZSBuZXh0CiAgICAvLyBzdGVwIG9mIHRoZSBnZW5lcmF0b3IuCiAgICBvdXRwdXRFbGVtZW50Lmxhc3RQcm9taXNlVmFsdWUgPSB2YWx1ZTsKICAgIHJldHVybiBuZXh0LnZhbHVlLnJlc3BvbnNlOwogIH0pOwp9CgovKioKICogR2VuZXJhdG9yIGZ1bmN0aW9uIHdoaWNoIGlzIGNhbGxlZCBiZXR3ZWVuIGVhY2ggYXN5bmMgc3RlcCBvZiB0aGUgdXBsb2FkCiAqIHByb2Nlc3MuCiAqIEBwYXJhbSB7c3RyaW5nfSBpbnB1dElkIEVsZW1lbnQgSUQgb2YgdGhlIGlucHV0IGZpbGUgcGlja2VyIGVsZW1lbnQuCiAqIEBwYXJhbSB7c3RyaW5nfSBvdXRwdXRJZCBFbGVtZW50IElEIG9mIHRoZSBvdXRwdXQgZGlzcGxheS4KICogQHJldHVybiB7IUl0ZXJhYmxlPCFPYmplY3Q+fSBJdGVyYWJsZSBvZiBuZXh0IHN0ZXBzLgogKi8KZnVuY3Rpb24qIHVwbG9hZEZpbGVzU3RlcChpbnB1dElkLCBvdXRwdXRJZCkgewogIGNvbnN0IGlucHV0RWxlbWVudCA9IGRvY3VtZW50LmdldEVsZW1lbnRCeUlkKGlucHV0SWQpOwogIGlucHV0RWxlbWVudC5kaXNhYmxlZCA9IGZhbHNlOwoKICBjb25zdCBvdXRwdXRFbGVtZW50ID0gZG9jdW1lbnQuZ2V0RWxlbWVudEJ5SWQob3V0cHV0SWQpOwogIG91dHB1dEVsZW1lbnQuaW5uZXJIVE1MID0gJyc7CgogIGNvbnN0IHBpY2tlZFByb21pc2UgPSBuZXcgUHJvbWlzZSgocmVzb2x2ZSkgPT4gewogICAgaW5wdXRFbGVtZW50LmFkZEV2ZW50TGlzdGVuZXIoJ2NoYW5nZScsIChlKSA9PiB7CiAgICAgIHJlc29sdmUoZS50YXJnZXQuZmlsZXMpOwogICAgfSk7CiAgfSk7CgogIGNvbnN0IGNhbmNlbCA9IGRvY3VtZW50LmNyZWF0ZUVsZW1lbnQoJ2J1dHRvbicpOwogIGlucHV0RWxlbWVudC5wYXJlbnRFbGVtZW50LmFwcGVuZENoaWxkKGNhbmNlbCk7CiAgY2FuY2VsLnRleHRDb250ZW50ID0gJ0NhbmNlbCB1cGxvYWQnOwogIGNvbnN0IGNhbmNlbFByb21pc2UgPSBuZXcgUHJvbWlzZSgocmVzb2x2ZSkgPT4gewogICAgY2FuY2VsLm9uY2xpY2sgPSAoKSA9PiB7CiAgICAgIHJlc29sdmUobnVsbCk7CiAgICB9OwogIH0pOwoKICAvLyBXYWl0IGZvciB0aGUgdXNlciB0byBwaWNrIHRoZSBmaWxlcy4KICBjb25zdCBmaWxlcyA9IHlpZWxkIHsKICAgIHByb21pc2U6IFByb21pc2UucmFjZShbcGlja2VkUHJvbWlzZSwgY2FuY2VsUHJvbWlzZV0pLAogICAgcmVzcG9uc2U6IHsKICAgICAgYWN0aW9uOiAnc3RhcnRpbmcnLAogICAgfQogIH07CgogIGNhbmNlbC5yZW1vdmUoKTsKCiAgLy8gRGlzYWJsZSB0aGUgaW5wdXQgZWxlbWVudCBzaW5jZSBmdXJ0aGVyIHBpY2tzIGFyZSBub3QgYWxsb3dlZC4KICBpbnB1dEVsZW1lbnQuZGlzYWJsZWQgPSB0cnVlOwoKICBpZiAoIWZpbGVzKSB7CiAgICByZXR1cm4gewogICAgICByZXNwb25zZTogewogICAgICAgIGFjdGlvbjogJ2NvbXBsZXRlJywKICAgICAgfQogICAgfTsKICB9CgogIGZvciAoY29uc3QgZmlsZSBvZiBmaWxlcykgewogICAgY29uc3QgbGkgPSBkb2N1bWVudC5jcmVhdGVFbGVtZW50KCdsaScpOwogICAgbGkuYXBwZW5kKHNwYW4oZmlsZS5uYW1lLCB7Zm9udFdlaWdodDogJ2JvbGQnfSkpOwogICAgbGkuYXBwZW5kKHNwYW4oCiAgICAgICAgYCgke2ZpbGUudHlwZSB8fCAnbi9hJ30pIC0gJHtmaWxlLnNpemV9IGJ5dGVzLCBgICsKICAgICAgICBgbGFzdCBtb2RpZmllZDogJHsKICAgICAgICAgICAgZmlsZS5sYXN0TW9kaWZpZWREYXRlID8gZmlsZS5sYXN0TW9kaWZpZWREYXRlLnRvTG9jYWxlRGF0ZVN0cmluZygpIDoKICAgICAgICAgICAgICAgICAgICAgICAgICAgICAgICAgICAgJ24vYSd9IC0gYCkpOwogICAgY29uc3QgcGVyY2VudCA9IHNwYW4oJzAlIGRvbmUnKTsKICAgIGxpLmFwcGVuZENoaWxkKHBlcmNlbnQpOwoKICAgIG91dHB1dEVsZW1lbnQuYXBwZW5kQ2hpbGQobGkpOwoKICAgIGNvbnN0IGZpbGVEYXRhUHJvbWlzZSA9IG5ldyBQcm9taXNlKChyZXNvbHZlKSA9PiB7CiAgICAgIGNvbnN0IHJlYWRlciA9IG5ldyBGaWxlUmVhZGVyKCk7CiAgICAgIHJlYWRlci5vbmxvYWQgPSAoZSkgPT4gewogICAgICAgIHJlc29sdmUoZS50YXJnZXQucmVzdWx0KTsKICAgICAgfTsKICAgICAgcmVhZGVyLnJlYWRBc0FycmF5QnVmZmVyKGZpbGUpOwogICAgfSk7CiAgICAvLyBXYWl0IGZvciB0aGUgZGF0YSB0byBiZSByZWFkeS4KICAgIGxldCBmaWxlRGF0YSA9IHlpZWxkIHsKICAgICAgcHJvbWlzZTogZmlsZURhdGFQcm9taXNlLAogICAgICByZXNwb25zZTogewogICAgICAgIGFjdGlvbjogJ2NvbnRpbnVlJywKICAgICAgfQogICAgfTsKCiAgICAvLyBVc2UgYSBjaHVua2VkIHNlbmRpbmcgdG8gYXZvaWQgbWVzc2FnZSBzaXplIGxpbWl0cy4gU2VlIGIvNjIxMTU2NjAuCiAgICBsZXQgcG9zaXRpb24gPSAwOwogICAgZG8gewogICAgICBjb25zdCBsZW5ndGggPSBNYXRoLm1pbihmaWxlRGF0YS5ieXRlTGVuZ3RoIC0gcG9zaXRpb24sIE1BWF9QQVlMT0FEX1NJWkUpOwogICAgICBjb25zdCBjaHVuayA9IG5ldyBVaW50OEFycmF5KGZpbGVEYXRhLCBwb3NpdGlvbiwgbGVuZ3RoKTsKICAgICAgcG9zaXRpb24gKz0gbGVuZ3RoOwoKICAgICAgY29uc3QgYmFzZTY0ID0gYnRvYShTdHJpbmcuZnJvbUNoYXJDb2RlLmFwcGx5KG51bGwsIGNodW5rKSk7CiAgICAgIHlpZWxkIHsKICAgICAgICByZXNwb25zZTogewogICAgICAgICAgYWN0aW9uOiAnYXBwZW5kJywKICAgICAgICAgIGZpbGU6IGZpbGUubmFtZSwKICAgICAgICAgIGRhdGE6IGJhc2U2NCwKICAgICAgICB9LAogICAgICB9OwoKICAgICAgbGV0IHBlcmNlbnREb25lID0gZmlsZURhdGEuYnl0ZUxlbmd0aCA9PT0gMCA/CiAgICAgICAgICAxMDAgOgogICAgICAgICAgTWF0aC5yb3VuZCgocG9zaXRpb24gLyBmaWxlRGF0YS5ieXRlTGVuZ3RoKSAqIDEwMCk7CiAgICAgIHBlcmNlbnQudGV4dENvbnRlbnQgPSBgJHtwZXJjZW50RG9uZX0lIGRvbmVgOwoKICAgIH0gd2hpbGUgKHBvc2l0aW9uIDwgZmlsZURhdGEuYnl0ZUxlbmd0aCk7CiAgfQoKICAvLyBBbGwgZG9uZS4KICB5aWVsZCB7CiAgICByZXNwb25zZTogewogICAgICBhY3Rpb246ICdjb21wbGV0ZScsCiAgICB9CiAgfTsKfQoKc2NvcGUuZ29vZ2xlID0gc2NvcGUuZ29vZ2xlIHx8IHt9OwpzY29wZS5nb29nbGUuY29sYWIgPSBzY29wZS5nb29nbGUuY29sYWIgfHwge307CnNjb3BlLmdvb2dsZS5jb2xhYi5fZmlsZXMgPSB7CiAgX3VwbG9hZEZpbGVzLAogIF91cGxvYWRGaWxlc0NvbnRpbnVlLAp9Owp9KShzZWxmKTsK",
              "ok": true,
              "headers": [
                [
                  "content-type",
                  "application/javascript"
                ]
              ],
              "status": 200,
              "status_text": ""
            }
          },
          "base_uri": "https://localhost:8080/",
          "height": 247
        },
        "id": "LEQEXoFbRPIe",
        "outputId": "84a22785-5afb-4ef0-a0c8-e8eda5a78709"
      },
      "execution_count": null,
      "outputs": [
        {
          "output_type": "display_data",
          "data": {
            "text/plain": [
              "<IPython.core.display.HTML object>"
            ],
            "text/html": [
              "\n",
              "     <input type=\"file\" id=\"files-b1148b10-08af-4c08-b4e1-c7124c52086a\" name=\"files[]\" multiple disabled\n",
              "        style=\"border:none\" />\n",
              "     <output id=\"result-b1148b10-08af-4c08-b4e1-c7124c52086a\">\n",
              "      Upload widget is only available when the cell has been executed in the\n",
              "      current browser session. Please rerun this cell to enable.\n",
              "      </output>\n",
              "      <script src=\"/nbextensions/google.colab/files.js\"></script> "
            ]
          },
          "metadata": {}
        },
        {
          "output_type": "stream",
          "name": "stdout",
          "text": [
            "Saving Daily Precipitation.csv to Daily Precipitation.csv\n",
            "Saving Daily Soil Mositure.csv to Daily Soil Mositure.csv\n",
            "Saving Daily Temperature.csv to Daily Temperature.csv\n",
            "Saving Eight Day NDVI.csv to Eight Day NDVI.csv\n",
            "Saving predicted_production_qty.csv to predicted_production_qty.csv\n",
            "Saving Production Quantity.csv to Production Quantity.csv\n"
          ]
        }
      ]
    },
    {
      "cell_type": "markdown",
      "source": [
        "##Assumptions and Approach:\n",
        "\n",
        "*As the production quantity needs to be predicted which is a quantitative response, I will be using regression algorithms for training and prediction. The production for each month in 2021 for each region needs to be predicted. So I am going to consider \"month\" as a feature inplace of the given timestamps-\"start_date\" and \"end_date\". \"Month' and \"region_id\" will be encoded using one-hot encoding as these are qualitative variable. First step will be preprocessing followed by training and prediction. I have also included the model explorations at the end.*"
      ],
      "metadata": {
        "id": "qjjl5Av0lcg2"
      }
    },
    {
      "cell_type": "markdown",
      "source": [
        "**Importing the necessary libraries**"
      ],
      "metadata": {
        "id": "RLzU_y_d_zNn"
      }
    },
    {
      "cell_type": "code",
      "source": [
        "import pandas as pd\n",
        "import numpy as np\n",
        "from numpy import random\n",
        "from pandas.tseries.offsets import MonthEnd, MonthBegin\n",
        "from functools import reduce\n",
        "from sklearn.metrics import mean_absolute_percentage_error\n",
        "from sklearn.metrics import r2_score\n",
        "from sklearn import linear_model\n",
        "from sklearn.linear_model import LinearRegression\n",
        "from sklearn.preprocessing import MinMaxScaler\n",
        "from sklearn.model_selection import train_test_split\n",
        "from sklearn.preprocessing import PolynomialFeatures\n",
        "from sklearn.pipeline import make_pipeline\n",
        "from sklearn.linear_model import Ridge\n",
        "from sklearn.ensemble import RandomForestRegressor\n",
        "from sklearn import metrics\n",
        "from sklearn.model_selection import RandomizedSearchCV\n",
        "from typing_extensions import ParamSpec\n",
        "from sklearn.model_selection import GridSearchCV\n",
        "from google.colab import files"
      ],
      "metadata": {
        "id": "pGkhdX19SjK1"
      },
      "execution_count": null,
      "outputs": []
    },
    {
      "cell_type": "markdown",
      "source": [
        "**Loading datasets into dataframes**"
      ],
      "metadata": {
        "id": "zzimZ6aZ_-G9"
      }
    },
    {
      "cell_type": "code",
      "source": [
        "Daily_Precipitation = pd.read_csv('Daily Precipitation.csv')\n",
        "Daily_Soil_Mositure = pd.read_csv('Daily Soil Mositure.csv')\n",
        "Daily_Temperature = pd.read_csv('Daily Temperature.csv')\n",
        "Eight_Day_NDVI = pd.read_csv('Eight Day NDVI.csv')\n",
        "predicted_production_qty = pd.read_csv('predicted_production_qty.csv')\n",
        "Production_Quantity = pd.read_csv('Production Quantity.csv')"
      ],
      "metadata": {
        "id": "n0ippk3aSMSH"
      },
      "execution_count": null,
      "outputs": []
    },
    {
      "cell_type": "markdown",
      "source": [
        "**Pre-processing-1: Aggregating the predictors to obtain features on monthly basis as the production quantity to be predicted is for each month in 2021. For that, doing some cleaning on \"Eight_Day_NDVI\" to remove 'date ranges' between two months by counting the number of days on both months and giving priority to the month with higher number of days. If the days are equal, randomly assigning them to any of the two months. Then converting the date columns to period and extracting the month and year for each record for all datasets to make the aggregation by month. Aggregation performed is mean().**"
      ],
      "metadata": {
        "id": "zY3gurEYAFFC"
      }
    },
    {
      "cell_type": "code",
      "source": [
        "for index, row in Eight_Day_NDVI.iterrows():\n",
        "  if(pd.to_datetime(row[1]).strftime('%Y-%m') != pd.to_datetime(row[0]).strftime('%Y-%m')):\n",
        "    if (pd.to_datetime(row[0]) + pd.offsets.MonthEnd(0) - pd.to_datetime(row[0])).days > (pd.to_datetime(row[1]) - (pd.to_datetime(row[1]) - pd.offsets.MonthEnd(0) - pd.offsets.MonthBegin(1))).days:\n",
        "      Eight_Day_NDVI.iloc[index, 1] = Eight_Day_NDVI.iloc[index, 0]\n",
        "    elif (pd.to_datetime(row[0]) + pd.offsets.MonthEnd(0) - pd.to_datetime(row[0])).days < (pd.to_datetime(row[1]) - (pd.to_datetime(row[1]) - pd.offsets.MonthEnd(0) - pd.offsets.MonthBegin(1))).days:\n",
        "      Eight_Day_NDVI.iloc[index, 0] = Eight_Day_NDVI.iloc[index, 1]\n",
        "    else:\n",
        "      rnum = random.randint(2)\n",
        "      if rnum == 0:\n",
        "        Eight_Day_NDVI.iloc[index, 0] = Eight_Day_NDVI.iloc[index, 1]\n",
        "      else:\n",
        "        Eight_Day_NDVI.iloc[index, 1] = Eight_Day_NDVI.iloc[index, 0]\n",
        "      \n",
        "\n",
        "for df in (Daily_Precipitation, Daily_Soil_Mositure, Daily_Temperature, Eight_Day_NDVI, Production_Quantity):\n",
        "  df['year'] = pd.DatetimeIndex(df['start_date']).year\n",
        "  df['month'] = pd.DatetimeIndex(df['start_date']).month\n",
        "  for columns in (df.columns[0:2]):\n",
        "    df[columns] = pd.to_datetime(df[columns]).dt.to_period('M')\n",
        "\n",
        "\n",
        "Daily_Precipitation = Daily_Precipitation.groupby(['start_date', 'end_date', 'region_id', 'year', 'month']).mean().reset_index(inplace=False)\n",
        "Daily_Soil_Mositure = Daily_Soil_Mositure.groupby(['start_date', 'end_date', 'region_id', 'year', 'month']).mean().reset_index(inplace=False)\n",
        "Daily_Temperature = Daily_Temperature.groupby(['start_date', 'end_date', 'region_id', 'year', 'month']).mean().reset_index(inplace=False)\n",
        "Eight_Day_NDVI = Eight_Day_NDVI.groupby(['start_date', 'end_date', 'region_id', 'year', 'month']).mean().reset_index(inplace=False)"
      ],
      "metadata": {
        "colab": {
          "base_uri": "https://localhost:8080/"
        },
        "id": "TNMUq4wyeZW-",
        "outputId": "daef1511-3085-41e9-f4d3-4510c8317beb"
      },
      "execution_count": null,
      "outputs": [
        {
          "output_type": "stream",
          "name": "stderr",
          "text": [
            "/usr/local/lib/python3.7/dist-packages/pandas/core/arrays/datetimes.py:1146: UserWarning: Converting to PeriodArray/Index representation will drop timezone information.\n",
            "  UserWarning,\n"
          ]
        }
      ]
    },
    {
      "cell_type": "markdown",
      "source": [
        "**Pre-processing-2: Combining the datasets into one and removing records with Null values. Then performing one-hot encoding for month and region_id as they have to be taken as categorical values while training the model. After that they are merged to the final df.**"
      ],
      "metadata": {
        "id": "95iKoN0SCXZ8"
      }
    },
    {
      "cell_type": "code",
      "source": [
        "dfs = [Production_Quantity, Daily_Precipitation, Daily_Soil_Mositure, Daily_Temperature, Eight_Day_NDVI]\n",
        "df_merged = reduce(lambda  left, right: pd.merge(left, right, how='left'), dfs).dropna().drop(['start_date', 'end_date'], axis=1)\n",
        "\n",
        "Month_1hot = pd.get_dummies(df_merged.month, prefix='Month')\n",
        "Region_1hot = pd.get_dummies(df_merged.region_id, prefix='Region')\n",
        "\n",
        "dfs_1hot = [df_merged, Month_1hot, Region_1hot]\n",
        "\n",
        "df_final = reduce(lambda  left, right: pd.merge(left, right, left_index=True, right_index=True, how='inner'), dfs_1hot)"
      ],
      "metadata": {
        "id": "fiu4FOrEQFnw"
      },
      "execution_count": null,
      "outputs": []
    },
    {
      "cell_type": "markdown",
      "source": [
        "**Pre-processing-3: Scaling the variables to have their ranges between 0 and 1 to avoid bias.**"
      ],
      "metadata": {
        "id": "kz1r8xLkDi99"
      }
    },
    {
      "cell_type": "code",
      "source": [
        "scaler = MinMaxScaler()\n",
        "df_scaled = scaler.fit_transform(df_final.to_numpy())\n",
        "df_scaled = pd.DataFrame(df_scaled, columns=df_final.columns)\n",
        "df_scaled['prod'] = df_final['prod']"
      ],
      "metadata": {
        "id": "X_XJwcCBQivs"
      },
      "execution_count": null,
      "outputs": []
    },
    {
      "cell_type": "markdown",
      "source": [
        "**Training dataset is ready after removing the features that are not needed for prediction.**"
      ],
      "metadata": {
        "id": "y9No9e6JEBLT"
      }
    },
    {
      "cell_type": "code",
      "source": [
        "X = df_scaled.loc[:, ~df_scaled.columns.isin(['year', 'month', 'region_id', 'prod'])]\n",
        "y = df_final['prod']\n"
      ],
      "metadata": {
        "id": "by3cWAJBXw_N"
      },
      "execution_count": null,
      "outputs": []
    },
    {
      "cell_type": "markdown",
      "source": [
        "**Pre-processing-4: Preparing the test dataset(the predictors to predict the production for 2021)-converting and extracting the date features, one-hot encoding the categoricals, and scaling the predictor variables.**"
      ],
      "metadata": {
        "id": "rYt9ikMUIcMb"
      }
    },
    {
      "cell_type": "code",
      "source": [
        "predicted_prod = predicted_production_qty.copy()\n",
        "predicted_prod['month'] = pd.DatetimeIndex(predicted_prod['start_date']).month\n",
        "predicted_prod['start_date'] = pd.to_datetime(predicted_prod[columns]).dt.to_period('M')\n",
        "predicted_prod['end_date'] = pd.to_datetime(predicted_prod[columns]).dt.to_period('M')\n",
        "\n",
        "dfs = [predicted_prod, Daily_Precipitation, Daily_Soil_Mositure, Daily_Temperature, Eight_Day_NDVI]\n",
        "df_merged = reduce(lambda  left, right: pd.merge(left, right, how='left'), dfs).drop(['start_date', 'end_date'], axis=1)\n",
        "\n",
        "Month_1hot = pd.get_dummies(df_merged.month, prefix='Month')\n",
        "Region_1hot = pd.get_dummies(df_merged.region_id, prefix='Region')\n",
        "\n",
        "dfs_1hot = [df_merged, Month_1hot, Region_1hot]\n",
        "\n",
        "df_prod = reduce(lambda  left, right: pd.merge(left, right, left_index=True, right_index=True, how='inner'), dfs_1hot)\n",
        "\n",
        "scaler = MinMaxScaler()\n",
        "df_scaled = scaler.fit_transform(df_prod.to_numpy())\n",
        "df_scaled = pd.DataFrame(df_scaled, columns=df_prod.columns)\n",
        "X_predictor = df_scaled.loc[:, ~df_scaled.columns.isin(['year', 'month', 'region_id', 'prod'])]"
      ],
      "metadata": {
        "colab": {
          "base_uri": "https://localhost:8080/"
        },
        "id": "7K6aBjgd2pLT",
        "outputId": "791d58f3-4e9d-4d3a-c00a-a2582b1ccc71"
      },
      "execution_count": null,
      "outputs": [
        {
          "output_type": "stream",
          "name": "stderr",
          "text": [
            "/usr/local/lib/python3.7/dist-packages/pandas/core/arrays/datetimes.py:1146: UserWarning: Converting to PeriodArray/Index representation will drop timezone information.\n",
            "  UserWarning,\n"
          ]
        }
      ]
    },
    {
      "cell_type": "markdown",
      "source": [
        "**Prediction:**\n",
        "\n",
        "**Model selection and hyperParameter tuning - After testing the dataset with a number of algorithms, it produced the lowest MAPE when using Randomforest Regressor. SO I have chosen this model to fit the training data. Then I tuned the model to obtain the best hyperparameters in order to get the maximum accuracy when testing. The codes for testing other algorithms and for tuning are included in \"Model Exploration\".**\n",
        "\n",
        "\n",
        "**Fitting the trained model with the above data for prediction.**"
      ],
      "metadata": {
        "id": "w7WIckL_LEM0"
      }
    },
    {
      "cell_type": "code",
      "source": [
        "forest = RandomForestRegressor(n_estimators = 1000)\n",
        "\n",
        "forest.fit(X, y)\n",
        "\n",
        "yfit = forest.predict(X_predictor)\n",
        "predicted_production_qty['prod'] = yfit.round().astype(int)"
      ],
      "metadata": {
        "id": "A7pkyKSs5BFN"
      },
      "execution_count": null,
      "outputs": []
    },
    {
      "cell_type": "markdown",
      "source": [
        "**Exporting the predicted file:**"
      ],
      "metadata": {
        "id": "5_A9CoGRLtPy"
      }
    },
    {
      "cell_type": "code",
      "source": [
        "predicted_production_qty.to_csv('predicted_production_qty.csv', encoding = 'utf-8-sig', index = False) \n",
        "files.download('predicted_production_qty.csv')"
      ],
      "metadata": {
        "colab": {
          "base_uri": "https://localhost:8080/",
          "height": 17
        },
        "id": "jrqF-N0pXDFE",
        "outputId": "f2e448e5-6c0a-4f0a-dd69-dd9776b4b24e"
      },
      "execution_count": null,
      "outputs": [
        {
          "output_type": "display_data",
          "data": {
            "text/plain": [
              "<IPython.core.display.Javascript object>"
            ],
            "application/javascript": [
              "\n",
              "    async function download(id, filename, size) {\n",
              "      if (!google.colab.kernel.accessAllowed) {\n",
              "        return;\n",
              "      }\n",
              "      const div = document.createElement('div');\n",
              "      const label = document.createElement('label');\n",
              "      label.textContent = `Downloading \"${filename}\": `;\n",
              "      div.appendChild(label);\n",
              "      const progress = document.createElement('progress');\n",
              "      progress.max = size;\n",
              "      div.appendChild(progress);\n",
              "      document.body.appendChild(div);\n",
              "\n",
              "      const buffers = [];\n",
              "      let downloaded = 0;\n",
              "\n",
              "      const channel = await google.colab.kernel.comms.open(id);\n",
              "      // Send a message to notify the kernel that we're ready.\n",
              "      channel.send({})\n",
              "\n",
              "      for await (const message of channel.messages) {\n",
              "        // Send a message to notify the kernel that we're ready.\n",
              "        channel.send({})\n",
              "        if (message.buffers) {\n",
              "          for (const buffer of message.buffers) {\n",
              "            buffers.push(buffer);\n",
              "            downloaded += buffer.byteLength;\n",
              "            progress.value = downloaded;\n",
              "          }\n",
              "        }\n",
              "      }\n",
              "      const blob = new Blob(buffers, {type: 'application/binary'});\n",
              "      const a = document.createElement('a');\n",
              "      a.href = window.URL.createObjectURL(blob);\n",
              "      a.download = filename;\n",
              "      div.appendChild(a);\n",
              "      a.click();\n",
              "      div.remove();\n",
              "    }\n",
              "  "
            ]
          },
          "metadata": {}
        },
        {
          "output_type": "display_data",
          "data": {
            "text/plain": [
              "<IPython.core.display.Javascript object>"
            ],
            "application/javascript": [
              "download(\"download_6cb425c9-7d6f-4c46-9144-22f185e3fe50\", \"predicted_production_qty.csv\", 7226)"
            ]
          },
          "metadata": {}
        }
      ]
    },
    {
      "cell_type": "markdown",
      "source": [
        "#Model Exploration#\n"
      ],
      "metadata": {
        "id": "HvaIsaKrLnyU"
      }
    },
    {
      "cell_type": "markdown",
      "source": [
        "\n",
        "**1) Linear Regression:**\n",
        "\n",
        "*It gives a MAPE of 26% and Rsquared of 0.95 when trained and tested on the same whole dataset. From the figure below, it looks like the model needs to be more flexible on few parts especially when the production is above 0.2M where variance is so high and it is overfitting when prod is below 0.1M.*"
      ],
      "metadata": {
        "id": "VdZ-XP0-fbK0"
      }
    },
    {
      "cell_type": "code",
      "source": [
        "model = LinearRegression(fit_intercept=True)\n",
        "model.fit(X, y)\n",
        "df_scaled['predicted'] = model.predict(X)\n",
        "df_scaled[['prod', 'predicted']].plot(alpha=0.8);\n",
        "\n",
        "print(\"MAPE : \", mean_absolute_percentage_error(y, df_scaled['predicted']))\n",
        "print(\"R2 : \", r2_score(y, df_scaled['predicted']))"
      ],
      "metadata": {
        "colab": {
          "base_uri": "https://localhost:8080/",
          "height": 300
        },
        "id": "DhwuzLo_94XX",
        "outputId": "aad35b62-5d22-45af-c910-3a1d6cdfb001"
      },
      "execution_count": null,
      "outputs": [
        {
          "output_type": "stream",
          "name": "stdout",
          "text": [
            "MAPE :  0.2625736645004484\n",
            "R2 :  0.9535177295189816\n"
          ]
        },
        {
          "output_type": "display_data",
          "data": {
            "text/plain": [
              "<Figure size 432x288 with 1 Axes>"
            ],
            "image/png": "[encoded data removed]"
          },
          "metadata": {
            "needs_background": "light"
          }
        }
      ]
    },
    {
      "cell_type": "markdown",
      "source": [
        "**Splitting test and train datasets:**\n",
        "\n",
        "*Fitting the model 100 times by splitting them randomly into train and test sets and taking the average error, similar to cross validation and bootstrap but with replacement.*"
      ],
      "metadata": {
        "id": "X1-0ZJpwmLEM"
      }
    },
    {
      "cell_type": "code",
      "source": [
        "A = []\n",
        "B = []\n",
        "for i in range(0, 100):\n",
        "  Xtrain, Xtest, ytrain, ytest = train_test_split(X, y, test_size = 0.0138)\n",
        "  model = LinearRegression(fit_intercept=True)\n",
        "  model.fit(Xtrain, ytrain)\n",
        "  predicted = model.predict(Xtest)\n",
        "  A.append(mean_absolute_percentage_error(ytest, predicted))\n",
        "  B.append(r2_score(ytest, predicted))\n",
        "print(\"MAPE : \", np.mean(A))\n",
        "print(\"R2 : \", np.mean(B))"
      ],
      "metadata": {
        "colab": {
          "base_uri": "https://localhost:8080/"
        },
        "id": "CukwCkJ494mF",
        "outputId": "a3867892-8725-499e-f631-2149c892d72b"
      },
      "execution_count": null,
      "outputs": [
        {
          "output_type": "stream",
          "name": "stdout",
          "text": [
            "MAPE :  0.27442431349372876\n",
            "R2 :  0.9356078785773376\n"
          ]
        }
      ]
    },
    {
      "cell_type": "markdown",
      "source": [
        "**2) With polynomials and interaction terms:**"
      ],
      "metadata": {
        "id": "0NMYE-w3s7Xb"
      }
    },
    {
      "cell_type": "code",
      "source": [
        "A = []\n",
        "B = []\n",
        "for i in range(0, 100):\n",
        "  Xtrain, Xtest, ytrain, ytest = train_test_split(X, y, test_size = 0.0138)\n",
        "  poly_model = LinearRegression(fit_intercept=True)\n",
        "  poly = PolynomialFeatures(2)\n",
        "  Xpolytrain = np.concatenate((poly.fit_transform(Xtrain.loc[:, Xtrain.columns.isin(['precip', 'smos', 'temp', 'ndvi'])].values), \n",
        "               Xtrain.loc[:, ~Xtrain.columns.isin(['precip', 'smos', 'temp', 'ndvi'])].values), axis = 1)\n",
        "\n",
        "  Xpolytest = np.concatenate((poly.fit_transform(Xtest.loc[:, Xtest.columns.isin(['precip', 'smos', 'temp', 'ndvi'])].values), \n",
        "               Xtest.loc[:, ~Xtest.columns.isin(['precip', 'smos', 'temp', 'ndvi'])].values), axis = 1)\n",
        "  poly_model.fit(Xpolytrain, ytrain)\n",
        "  predicted = poly_model.predict(Xpolytest)\n",
        "  A.append(mean_absolute_percentage_error(ytest, predicted))\n",
        "  B.append(r2_score(ytest, predicted))\n",
        "print(\"MAPE : \", np.mean(A))\n",
        "print(\"R2 : \", np.mean(B))"
      ],
      "metadata": {
        "colab": {
          "base_uri": "https://localhost:8080/"
        },
        "id": "tFK3Nk3494pP",
        "outputId": "2dcb936a-b9a1-47a4-c6a5-2e183099cc12"
      },
      "execution_count": null,
      "outputs": [
        {
          "output_type": "stream",
          "name": "stdout",
          "text": [
            "MAPE :  0.31269991895996646\n",
            "R2 :  0.9400891233673291\n"
          ]
        }
      ]
    },
    {
      "cell_type": "markdown",
      "source": [
        "**3) With Regularization - Ridge and Lasso:**\n",
        "\n",
        "*Though this produces lowest error sometimes, the errors are highly varying*"
      ],
      "metadata": {
        "id": "5DUv_OVbyZLN"
      }
    },
    {
      "cell_type": "code",
      "source": [
        "from sklearn.linear_model import RidgeCV\n",
        "\n",
        "Xtrain, Xtest, ytrain, ytest = train_test_split(X, y, test_size = 0.0138)\n",
        "\n",
        "#model_ridge = linear_model.Ridge(alpha=.5, fit_intercept=True)\n",
        "r_alphas = np.logspace(0, 5, 100)\n",
        "model_ridge = RidgeCV(alphas=r_alphas, scoring='neg_mean_squared_error')\n",
        "\n",
        "model_ridge.fit(Xtrain, ytrain)\n",
        "model_ridge = RidgeCV(alphas=model_ridge.alpha_, scoring='neg_mean_squared_error')\n",
        "\n",
        "model_ridge.fit(Xtrain, ytrain)\n",
        "predicted = model_ridge.predict(Xtest)\n",
        "\n",
        "print(\"Ridge\")\n",
        "print(\"MAPE : \", mean_squared_error(ytest, predicted))\n",
        "print(\"R2 : \", r2_score(ytest, predicted))\n",
        "\n"
      ],
      "metadata": {
        "colab": {
          "base_uri": "https://localhost:8080/"
        },
        "id": "gGYV86fR94r6",
        "outputId": "a1ad537b-6678-41e6-8373-f2f57615468c"
      },
      "execution_count": null,
      "outputs": [
        {
          "output_type": "stream",
          "name": "stdout",
          "text": [
            "Ridge\n",
            "MAPE :  0.40226612012511576\n",
            "R2 :  0.9446441370184511\n"
          ]
        }
      ]
    },
    {
      "cell_type": "code",
      "source": [
        "from sklearn.linear_model import LassoCV\n",
        "\n",
        "Xtrain, Xtest, ytrain, ytest = train_test_split(X, y, test_size = 0.0138)\n",
        "\n",
        "model_Lasso = LassoCV(cv=5, random_state=0)\n",
        "\n",
        "model_Lasso.fit(Xtrain, ytrain)\n",
        "predicted = model_Lasso.predict(Xtest)\n",
        "\n",
        "print(\"Lasso\")\n",
        "print(\"MAPE : \", mean_absolute_percentage_error(ytest, predicted))\n",
        "print(\"R2 : \", r2_score(ytest, predicted))\n"
      ],
      "metadata": {
        "colab": {
          "base_uri": "https://localhost:8080/"
        },
        "id": "_TAV8uSF94ug",
        "outputId": "f9b6e9ca-d476-4729-8197-b41300524d34"
      },
      "execution_count": null,
      "outputs": [
        {
          "output_type": "stream",
          "name": "stdout",
          "text": [
            "Lasso\n",
            "MAPE :  0.16135685067650318\n",
            "R2 :  0.8225472872563792\n"
          ]
        }
      ]
    },
    {
      "cell_type": "markdown",
      "source": [
        "**4) Gradient Boosting:**\n",
        "\n",
        "*This produces the second lowest MAPE around 17% in average for 10 fitting.*"
      ],
      "metadata": {
        "id": "d1M4IuWj5Mft"
      }
    },
    {
      "cell_type": "code",
      "source": [
        "from xgboost import XGBRegressor\n",
        "A = []\n",
        "B = []\n",
        "for i in range(0,10):\n",
        "\n",
        "  Xtrain, Xtest, ytrain, ytest = train_test_split(X, y, test_size = 0.0138)\n",
        "  XGB = XGBRegressor(500, objective='reg:squarederror')\n",
        "\n",
        "  XGB.fit(Xtrain, ytrain)\n",
        "\n",
        "  yfit = XGB.predict(Xtest)\n",
        "  \n",
        "\n",
        "  A.append(metrics.mean_absolute_percentage_error(yfit, ytest))\n",
        "  B.append(r2_score(yfit, ytest))\n",
        "\n",
        "print(\"MAPE : \", np.mean(A))\n",
        "print(\"R2 : \", np.mean(B))\n"
      ],
      "metadata": {
        "colab": {
          "base_uri": "https://localhost:8080/"
        },
        "id": "AH6Ouai8177s",
        "outputId": "ba92e091-d975-4bfc-9a32-2251fefcdfb0"
      },
      "execution_count": null,
      "outputs": [
        {
          "output_type": "stream",
          "name": "stdout",
          "text": [
            "MAPE :  0.16425421259209383\n",
            "R2 :  0.9269334549682562\n"
          ]
        }
      ]
    },
    {
      "cell_type": "markdown",
      "source": [
        "**5) Dimension reduction with PCA for all the principal components with Random forest:**"
      ],
      "metadata": {
        "id": "3VrRczLq7KDP"
      }
    },
    {
      "cell_type": "code",
      "source": [
        "from sklearn.decomposition import PCA\n",
        "\n",
        "Xtrain, Xtest, ytrain, ytest = train_test_split(X, y, test_size = 0.0138)\n",
        "\n",
        "for i in range(1, X.shape[1]):\n",
        "  pca = PCA(n_components = i)\n",
        "  pca.fit(Xtrain)\n",
        "  X_pca_train = pca.transform(Xtrain)\n",
        "  forest = RandomForestRegressor(100)\n",
        "  forest.fit(X_pca_train, ytrain)\n",
        "  X_pca_test = pca.transform(Xtest)\n",
        "  yfit = forest.predict(X_pca_test)\n",
        "  print(i, metrics.mean_absolute_percentage_error(yfit, ytest), r2_score(yfit, ytest))"
      ],
      "metadata": {
        "id": "DIsMpCVL6ofW"
      },
      "execution_count": null,
      "outputs": []
    },
    {
      "cell_type": "markdown",
      "source": [
        "**Random forest Parameter tuning with randomized search and cross validation:**\n",
        "\n",
        "*Though there are lot of parameters listed below, the model performed better when n_estimators = 1000 and keeping the others default. So have used only this one for prediction*"
      ],
      "metadata": {
        "id": "i1bewxtnQThU"
      }
    },
    {
      "cell_type": "code",
      "source": [
        "n_estimators = [int(x) for x in np.linspace(start = 200, stop = 2000, num = 10)]\n",
        "max_features = ['auto', 'sqrt']\n",
        "max_depth = [int(x) for x in np.linspace(10, 110, num = 11)]\n",
        "max_depth.append(None)\n",
        "min_samples_split = [2, 5, 10]\n",
        "min_samples_leaf = [1, 2, 4]\n",
        "bootstrap = [True, False]\n",
        "random_grid = {'n_estimators': n_estimators,\n",
        "               'max_features': max_features,\n",
        "               'max_depth': max_depth,\n",
        "               'min_samples_split': min_samples_split,\n",
        "               'min_samples_leaf': min_samples_leaf,\n",
        "               'bootstrap': bootstrap}\n",
        "\n",
        "rf = RandomForestRegressor()\n",
        "rf_random = RandomizedSearchCV(estimator = rf, param_distributions = random_grid, n_iter = 100, cv = 3, verbose=2, random_state=42, n_jobs = -1)\n",
        "rf_random.fit(X, y)\n",
        "\n",
        "rf_random.best_params_"
      ],
      "metadata": {
        "id": "pzVPrgznQEUx"
      },
      "execution_count": null,
      "outputs": []
    },
    {
      "cell_type": "markdown",
      "source": [
        "**Parameter tuning averaging for 100 fits**\n",
        "\n",
        "**n_estimator = 1000:**"
      ],
      "metadata": {
        "id": "ixtlUuCXQ98u"
      }
    },
    {
      "cell_type": "code",
      "source": [
        "A = []\n",
        "B = []\n",
        "for i in range(0, 100):\n",
        "  Xtrain, Xtest, ytrain, ytest = train_test_split(X, y, test_size = 0.0138)\n",
        "\n",
        "  forest = RandomForestRegressor(1000)\n",
        "\n",
        "  forest.fit(Xtrain, ytrain)\n",
        "\n",
        "  yfit = forest.predict(Xtest)\n",
        "  #print(metrics.mean_absolute_percentage_error(yfit, ytest), r2_score(yfit, ytest))\n",
        "  A.append(metrics.mean_absolute_percentage_error(yfit, ytest))\n",
        "  B.append(r2_score(yfit, ytest))\n",
        "print(\"MAPE : \", np.mean(A))\n",
        "print(\"R2 : \", np.mean(B))"
      ],
      "metadata": {
        "colab": {
          "base_uri": "https://localhost:8080/"
        },
        "id": "fDoONGaGDEjT",
        "outputId": "8219aec2-6443-4172-9a32-9c1b018acbde"
      },
      "execution_count": null,
      "outputs": [
        {
          "output_type": "stream",
          "name": "stdout",
          "text": [
            "MAPE :  0.14094902753747257\n",
            "R2 :  0.9524412672968546\n"
          ]
        }
      ]
    },
    {
      "cell_type": "markdown",
      "source": [
        "**n_estimator = 100:**"
      ],
      "metadata": {
        "id": "2IX_paA8Rabb"
      }
    },
    {
      "cell_type": "code",
      "source": [
        "A = []\n",
        "B = []\n",
        "for i in range(0, 100):\n",
        "  Xtrain, Xtest, ytrain, ytest = train_test_split(X, y, test_size = 0.0138)\n",
        "\n",
        "  forest = RandomForestRegressor(500)\n",
        "\n",
        "  forest.fit(Xtrain, ytrain)\n",
        "\n",
        "  yfit = forest.predict(Xtest)\n",
        "  #print(metrics.mean_absolute_percentage_error(yfit, ytest), r2_score(yfit, ytest))\n",
        "  A.append(metrics.mean_absolute_percentage_error(yfit, ytest))\n",
        "  B.append(r2_score(yfit, ytest))\n",
        "print(\"MAPE : \", np.mean(A))\n",
        "print(\"R2 : \", np.mean(B))"
      ],
      "metadata": {
        "colab": {
          "base_uri": "https://localhost:8080/"
        },
        "id": "G790Sey7EGVV",
        "outputId": "0871ef56-ca75-4243-beeb-bd24c7bf38e5"
      },
      "execution_count": null,
      "outputs": [
        {
          "output_type": "stream",
          "name": "stdout",
          "text": [
            "MAPE :  0.14418216422509209\n",
            "R2 :  0.9489808451701047\n"
          ]
        }
      ]
    },
    {
      "cell_type": "markdown",
      "source": [
        "**For all the parameters from randomized search:**"
      ],
      "metadata": {
        "id": "aifu8eICRd4p"
      }
    },
    {
      "cell_type": "code",
      "source": [
        "A = []\n",
        "B = []\n",
        "for i in range(0, 100):\n",
        "  Xtrain, Xtest, ytrain, ytest = train_test_split(X, y, test_size = 0.0138)\n",
        "\n",
        "  forest = RandomForestRegressor(bootstrap = True,\n",
        "  max_depth = 110,\n",
        "  max_features = 'sqrt',\n",
        "  min_samples_leaf = 1,\n",
        "  min_samples_split = 2,\n",
        "  n_estimators = 1000)\n",
        "\n",
        "  forest.fit(Xtrain, ytrain)\n",
        "\n",
        "  yfit = forest.predict(Xtest)\n",
        "  A.append(metrics.mean_absolute_percentage_error(yfit, ytest))\n",
        "  B.append(r2_score(yfit, ytest))\n",
        "  #print(metrics.mean_absolute_percentage_error(yfit, ytest), r2_score(yfit, ytest))\n",
        "print(\"MAPE : \", np.mean(A))\n",
        "print(\"R2 : \", np.mean(B))"
      ],
      "metadata": {
        "colab": {
          "base_uri": "https://localhost:8080/"
        },
        "id": "69ZcPKo7FP7u",
        "outputId": "4154374b-0404-4d36-f74e-225ae11addde"
      },
      "execution_count": null,
      "outputs": [
        {
          "output_type": "stream",
          "name": "stdout",
          "text": [
            "MAPE :  0.1746441259833059\n",
            "R2 :  0.9265417283595222\n"
          ]
        }
      ]
    },
    {
      "cell_type": "markdown",
      "source": [
        "**Conclusion:**\n",
        "\n",
        "*All in all, Randomforest with 1000 trees outperformed all the other considered models given a random split of train and test data on the given dataset, followed by XGBoosting. Still there are a lot of other models that are left out such as GAMs, SVMs, splines, and Neural Networks(RNN) which may perform better in this set. I will continue exploring them for learning purposes. Thanks for this opportunity, have learned a lot!*"
      ],
      "metadata": {
        "id": "Asl74y-rXATE"
      }
    }
  ]
}